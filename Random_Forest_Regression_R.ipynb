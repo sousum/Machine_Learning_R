{
 "cells": [
  {
   "cell_type": "markdown",
   "metadata": {},
   "source": [
    "# Random Forest Regression"
   ]
  },
  {
   "cell_type": "code",
   "execution_count": 1,
   "metadata": {},
   "outputs": [],
   "source": [
    "# Importing the dataset\n",
    "dataset = read.csv('Position_Salaries.csv')\n",
    "dataset = dataset[2:3]"
   ]
  },
  {
   "cell_type": "code",
   "execution_count": 2,
   "metadata": {},
   "outputs": [
    {
     "data": {
      "text/html": [
       "<table>\n",
       "<thead><tr><th scope=col>Level</th><th scope=col>Salary</th></tr></thead>\n",
       "<tbody>\n",
       "\t<tr><td>1     </td><td> 45000</td></tr>\n",
       "\t<tr><td>2     </td><td> 50000</td></tr>\n",
       "\t<tr><td>3     </td><td> 60000</td></tr>\n",
       "\t<tr><td>4     </td><td> 80000</td></tr>\n",
       "\t<tr><td>5     </td><td>110000</td></tr>\n",
       "\t<tr><td>6     </td><td>150000</td></tr>\n",
       "</tbody>\n",
       "</table>\n"
      ],
      "text/latex": [
       "\\begin{tabular}{r|ll}\n",
       " Level & Salary\\\\\n",
       "\\hline\n",
       "\t 1      &  45000\\\\\n",
       "\t 2      &  50000\\\\\n",
       "\t 3      &  60000\\\\\n",
       "\t 4      &  80000\\\\\n",
       "\t 5      & 110000\\\\\n",
       "\t 6      & 150000\\\\\n",
       "\\end{tabular}\n"
      ],
      "text/markdown": [
       "\n",
       "| Level | Salary |\n",
       "|---|---|\n",
       "| 1      |  45000 |\n",
       "| 2      |  50000 |\n",
       "| 3      |  60000 |\n",
       "| 4      |  80000 |\n",
       "| 5      | 110000 |\n",
       "| 6      | 150000 |\n",
       "\n"
      ],
      "text/plain": [
       "  Level Salary\n",
       "1 1      45000\n",
       "2 2      50000\n",
       "3 3      60000\n",
       "4 4      80000\n",
       "5 5     110000\n",
       "6 6     150000"
      ]
     },
     "metadata": {},
     "output_type": "display_data"
    }
   ],
   "source": [
    "head(dataset)"
   ]
  },
  {
   "cell_type": "code",
   "execution_count": 3,
   "metadata": {},
   "outputs": [
    {
     "name": "stderr",
     "output_type": "stream",
     "text": [
      "randomForest 4.6-14\n",
      "Type rfNews() to see new features/changes/bug fixes.\n"
     ]
    }
   ],
   "source": [
    "# Fitting Random Forest Regression to the dataset\n",
    "# install.packages('randomForest')\n",
    "library(randomForest)\n",
    "set.seed(1234)\n",
    "regressor = randomForest(x = dataset[-2],\n",
    "                         y = dataset$Salary,\n",
    "                         ntree = 500)"
   ]
  },
  {
   "cell_type": "code",
   "execution_count": 4,
   "metadata": {},
   "outputs": [
    {
     "data": {
      "text/html": [
       "<strong>1:</strong> 160907.666666667"
      ],
      "text/latex": [
       "\\textbf{1:} 160907.666666667"
      ],
      "text/markdown": [
       "**1:** 160907.666666667"
      ],
      "text/plain": [
       "       1 \n",
       "160907.7 "
      ]
     },
     "metadata": {},
     "output_type": "display_data"
    }
   ],
   "source": [
    "# Predicting a new result with Random Forest Regression\n",
    "y_pred = predict(regressor, data.frame(Level = 6.5))\n",
    "y_pred"
   ]
  },
  {
   "cell_type": "code",
   "execution_count": 5,
   "metadata": {},
   "outputs": [
    {
     "name": "stderr",
     "output_type": "stream",
     "text": [
      "Warning message:\n",
      "\"package 'ggplot2' was built under R version 3.6.2\"\n",
      "Attaching package: 'ggplot2'\n",
      "\n",
      "The following object is masked from 'package:randomForest':\n",
      "\n",
      "    margin\n",
      "\n"
     ]
    },
    {
     "data": {
      "image/png": "[encoded data removed]",
      "text/plain": [
       "plot without title"
      ]
     },
     "metadata": {},
     "output_type": "display_data"
    }
   ],
   "source": [
    "# Visualising the Random Forest Regression results (higher resolution)\n",
    "# install.packages('ggplot2')\n",
    "library(ggplot2)\n",
    "x_grid = seq(min(dataset$Level), max(dataset$Level), 0.01)\n",
    "ggplot() +\n",
    "  geom_point(aes(x = dataset$Level, y = dataset$Salary),\n",
    "             colour = 'red') +\n",
    "  geom_line(aes(x = x_grid, y = predict(regressor, newdata = data.frame(Level = x_grid))),\n",
    "            colour = 'blue') +\n",
    "  ggtitle('Truth or Bluff (Random Forest Regression)') +\n",
    "  xlab('Level') +\n",
    "  ylab('Salary')"
   ]
  },
  {
   "cell_type": "code",
   "execution_count": null,
   "metadata": {},
   "outputs": [],
   "source": []
  }
 ],
 "metadata": {
  "kernelspec": {
   "display_name": "R",
   "language": "R",
   "name": "ir"
  },
  "language_info": {
   "codemirror_mode": "r",
   "file_extension": ".r",
   "mimetype": "text/x-r-source",
   "name": "R",
   "pygments_lexer": "r",
   "version": "3.6.1"
  }
 },
 "nbformat": 4,
 "nbformat_minor": 4
}
