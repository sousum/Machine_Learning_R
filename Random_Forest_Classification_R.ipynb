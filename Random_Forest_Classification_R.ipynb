{
 "cells": [
  {
   "cell_type": "markdown",
   "metadata": {},
   "source": [
    "# Random Forest Classification"
   ]
  },
  {
   "cell_type": "code",
   "execution_count": 1,
   "metadata": {},
   "outputs": [],
   "source": [
    "# Importing the dataset\n",
    "dataset = read.csv('Social_Network_Ads.csv')\n",
    "dataset = dataset[3:5]"
   ]
  },
  {
   "cell_type": "code",
   "execution_count": 2,
   "metadata": {},
   "outputs": [
    {
     "data": {
      "text/html": [
       "<table>\n",
       "<thead><tr><th scope=col>Age</th><th scope=col>EstimatedSalary</th><th scope=col>Purchased</th></tr></thead>\n",
       "<tbody>\n",
       "\t<tr><td>19   </td><td>19000</td><td>0    </td></tr>\n",
       "\t<tr><td>35   </td><td>20000</td><td>0    </td></tr>\n",
       "\t<tr><td>26   </td><td>43000</td><td>0    </td></tr>\n",
       "\t<tr><td>27   </td><td>57000</td><td>0    </td></tr>\n",
       "\t<tr><td>19   </td><td>76000</td><td>0    </td></tr>\n",
       "\t<tr><td>27   </td><td>58000</td><td>0    </td></tr>\n",
       "</tbody>\n",
       "</table>\n"
      ],
      "text/latex": [
       "\\begin{tabular}{r|lll}\n",
       " Age & EstimatedSalary & Purchased\\\\\n",
       "\\hline\n",
       "\t 19    & 19000 & 0    \\\\\n",
       "\t 35    & 20000 & 0    \\\\\n",
       "\t 26    & 43000 & 0    \\\\\n",
       "\t 27    & 57000 & 0    \\\\\n",
       "\t 19    & 76000 & 0    \\\\\n",
       "\t 27    & 58000 & 0    \\\\\n",
       "\\end{tabular}\n"
      ],
      "text/markdown": [
       "\n",
       "| Age | EstimatedSalary | Purchased |\n",
       "|---|---|---|\n",
       "| 19    | 19000 | 0     |\n",
       "| 35    | 20000 | 0     |\n",
       "| 26    | 43000 | 0     |\n",
       "| 27    | 57000 | 0     |\n",
       "| 19    | 76000 | 0     |\n",
       "| 27    | 58000 | 0     |\n",
       "\n"
      ],
      "text/plain": [
       "  Age EstimatedSalary Purchased\n",
       "1 19  19000           0        \n",
       "2 35  20000           0        \n",
       "3 26  43000           0        \n",
       "4 27  57000           0        \n",
       "5 19  76000           0        \n",
       "6 27  58000           0        "
      ]
     },
     "metadata": {},
     "output_type": "display_data"
    }
   ],
   "source": [
    "head(dataset)"
   ]
  },
  {
   "cell_type": "code",
   "execution_count": 3,
   "metadata": {},
   "outputs": [],
   "source": [
    "# Encoding the target feature as factor\n",
    "dataset$Purchased = factor(dataset$Purchased, levels = c(0, 1))"
   ]
  },
  {
   "cell_type": "code",
   "execution_count": 4,
   "metadata": {},
   "outputs": [
    {
     "name": "stderr",
     "output_type": "stream",
     "text": [
      "Warning message:\n",
      "\"package 'caTools' was built under R version 3.6.2\""
     ]
    }
   ],
   "source": [
    "# Splitting the dataset into the Training set and Test set\n",
    "# install.packages('caTools')\n",
    "library(caTools)\n",
    "set.seed(123)\n",
    "split = sample.split(dataset$Purchased, SplitRatio = 0.75)\n",
    "training_set = subset(dataset, split == TRUE)\n",
    "test_set = subset(dataset, split == FALSE)"
   ]
  },
  {
   "cell_type": "code",
   "execution_count": 5,
   "metadata": {},
   "outputs": [],
   "source": [
    "# Feature Scaling\n",
    "training_set[-3] = scale(training_set[-3])\n",
    "test_set[-3] = scale(test_set[-3])"
   ]
  },
  {
   "cell_type": "code",
   "execution_count": 6,
   "metadata": {},
   "outputs": [
    {
     "name": "stderr",
     "output_type": "stream",
     "text": [
      "randomForest 4.6-14\n",
      "Type rfNews() to see new features/changes/bug fixes.\n"
     ]
    }
   ],
   "source": [
    "# Fitting Random Forest Classification to the Training set\n",
    "# install.packages('randomForest')\n",
    "library(randomForest)\n",
    "set.seed(123)\n",
    "classifier = randomForest(x = training_set[-3],\n",
    "                          y = training_set$Purchased,\n",
    "                          ntree = 500)"
   ]
  },
  {
   "cell_type": "code",
   "execution_count": 7,
   "metadata": {},
   "outputs": [],
   "source": [
    "# Predicting the Test set results\n",
    "y_pred = predict(classifier, newdata = test_set[-3])"
   ]
  },
  {
   "cell_type": "code",
   "execution_count": 8,
   "metadata": {},
   "outputs": [],
   "source": [
    "# Making the Confusion Matrix\n",
    "cm = table(test_set[, 3], y_pred)"
   ]
  },
  {
   "cell_type": "code",
   "execution_count": 9,
   "metadata": {},
   "outputs": [
    {
     "name": "stderr",
     "output_type": "stream",
     "text": [
      "Warning message:\n",
      "\"package 'caret' was built under R version 3.6.2\"Loading required package: lattice\n",
      "Loading required package: ggplot2\n",
      "Warning message:\n",
      "\"package 'ggplot2' was built under R version 3.6.2\"\n",
      "Attaching package: 'ggplot2'\n",
      "\n",
      "The following object is masked from 'package:randomForest':\n",
      "\n",
      "    margin\n",
      "\n"
     ]
    },
    {
     "data": {
      "text/plain": [
       "Confusion Matrix and Statistics\n",
       "\n",
       "   y_pred\n",
       "     0  1\n",
       "  0 56  8\n",
       "  1  7 29\n",
       "                                          \n",
       "               Accuracy : 0.85            \n",
       "                 95% CI : (0.7647, 0.9135)\n",
       "    No Information Rate : 0.63            \n",
       "    P-Value [Acc > NIR] : 1.043e-06       \n",
       "                                          \n",
       "                  Kappa : 0.6764          \n",
       "                                          \n",
       " Mcnemar's Test P-Value : 1               \n",
       "                                          \n",
       "            Sensitivity : 0.8889          \n",
       "            Specificity : 0.7838          \n",
       "         Pos Pred Value : 0.8750          \n",
       "         Neg Pred Value : 0.8056          \n",
       "             Prevalence : 0.6300          \n",
       "         Detection Rate : 0.5600          \n",
       "   Detection Prevalence : 0.6400          \n",
       "      Balanced Accuracy : 0.8363          \n",
       "                                          \n",
       "       'Positive' Class : 0               \n",
       "                                          "
      ]
     },
     "metadata": {},
     "output_type": "display_data"
    }
   ],
   "source": [
    "library(e1071)\n",
    "library(caret)\n",
    "confusionMatrix(cm)"
   ]
  },
  {
   "cell_type": "code",
   "execution_count": 10,
   "metadata": {},
   "outputs": [
    {
     "data": {
      "image/png": "[encoded data removed]",
      "text/plain": [
       "Plot with title \"Random Forest Classification (Training set)\""
      ]
     },
     "metadata": {},
     "output_type": "display_data"
    }
   ],
   "source": [
    "# Visualising the Training set results\n",
    "library(ElemStatLearn)\n",
    "set = training_set\n",
    "X1 = seq(min(set[, 1]) - 1, max(set[, 1]) + 1, by = 0.01)\n",
    "X2 = seq(min(set[, 2]) - 1, max(set[, 2]) + 1, by = 0.01)\n",
    "grid_set = expand.grid(X1, X2)\n",
    "colnames(grid_set) = c('Age', 'EstimatedSalary')\n",
    "y_grid = predict(classifier, grid_set)\n",
    "plot(set[, -3],\n",
    "     main = 'Random Forest Classification (Training set)',\n",
    "     xlab = 'Age', ylab = 'Estimated Salary',\n",
    "     xlim = range(X1), ylim = range(X2))\n",
    "contour(X1, X2, matrix(as.numeric(y_grid), length(X1), length(X2)), add = TRUE)\n",
    "points(grid_set, pch = '.', col = ifelse(y_grid == 1, 'springgreen3', 'tomato'))\n",
    "points(set, pch = 21, bg = ifelse(set[, 3] == 1, 'green4', 'red3'))"
   ]
  },
  {
   "cell_type": "code",
   "execution_count": 11,
   "metadata": {},
   "outputs": [
    {
     "data": {
      "image/png": "[encoded data removed]",
      "text/plain": [
       "Plot with title \"Random Forest Classification (Test set)\""
      ]
     },
     "metadata": {},
     "output_type": "display_data"
    }
   ],
   "source": [
    "# Visualising the Test set results\n",
    "library(ElemStatLearn)\n",
    "set = test_set\n",
    "X1 = seq(min(set[, 1]) - 1, max(set[, 1]) + 1, by = 0.01)\n",
    "X2 = seq(min(set[, 2]) - 1, max(set[, 2]) + 1, by = 0.01)\n",
    "grid_set = expand.grid(X1, X2)\n",
    "colnames(grid_set) = c('Age', 'EstimatedSalary')\n",
    "y_grid = predict(classifier, grid_set)\n",
    "plot(set[, -3], main = 'Random Forest Classification (Test set)',\n",
    "     xlab = 'Age', ylab = 'Estimated Salary',\n",
    "     xlim = range(X1), ylim = range(X2))\n",
    "contour(X1, X2, matrix(as.numeric(y_grid), length(X1), length(X2)), add = TRUE)\n",
    "points(grid_set, pch = '.', col = ifelse(y_grid == 1, 'springgreen3', 'tomato'))\n",
    "points(set, pch = 21, bg = ifelse(set[, 3] == 1, 'green4', 'red3'))"
   ]
  },
  {
   "cell_type": "code",
   "execution_count": 12,
   "metadata": {},
   "outputs": [
    {
     "data": {
      "image/png": "[encoded data removed]",
      "text/plain": [
       "Plot with title \"classifier\""
      ]
     },
     "metadata": {},
     "output_type": "display_data"
    }
   ],
   "source": [
    "# Choosing the number of trees\n",
    "plot(classifier)"
   ]
  },
  {
   "cell_type": "code",
   "execution_count": null,
   "metadata": {},
   "outputs": [],
   "source": []
  }
 ],
 "metadata": {
  "kernelspec": {
   "display_name": "R",
   "language": "R",
   "name": "ir"
  },
  "language_info": {
   "codemirror_mode": "r",
   "file_extension": ".r",
   "mimetype": "text/x-r-source",
   "name": "R",
   "pygments_lexer": "r",
   "version": "3.6.1"
  }
 },
 "nbformat": 4,
 "nbformat_minor": 4
}
